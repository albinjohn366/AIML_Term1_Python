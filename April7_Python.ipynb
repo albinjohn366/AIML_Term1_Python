{
  "nbformat": 4,
  "nbformat_minor": 0,
  "metadata": {
    "colab": {
      "name": "April7_Python.ipynb",
      "provenance": [],
      "authorship_tag": "ABX9TyPEHHmjJFk5wndstFlBHtf9"
    },
    "kernelspec": {
      "name": "python3",
      "display_name": "Python 3"
    },
    "language_info": {
      "name": "python"
    }
  },
  "cells": [
    {
      "cell_type": "markdown",
      "metadata": {
        "id": "UZLoQoCaof-l"
      },
      "source": [
        "Creating a class Person"
      ]
    },
    {
      "cell_type": "code",
      "metadata": {
        "id": "1Q1uIAP9mBqj"
      },
      "source": [
        "# Creating a class\n",
        "class Person:\n",
        "  \"\"\"This is a class\"\"\"\n",
        "  age = 10\n",
        "\n",
        "  def greet(self):\n",
        "    print('Hello')"
      ],
      "execution_count": 29,
      "outputs": []
    },
    {
      "cell_type": "code",
      "metadata": {
        "colab": {
          "base_uri": "https://localhost:8080/"
        },
        "id": "gtza74Y9mOPA",
        "outputId": "1fe76efb-2e6e-4e0d-8c35-07698c86b773"
      },
      "source": [
        "# Printing age\n",
        "print(Person.age)\n",
        "\n",
        "# Printing the greeting\n",
        "print(Person.greet)\n",
        "\n",
        "# Printing the documentation\n",
        "print(Person.__doc__)"
      ],
      "execution_count": 30,
      "outputs": [
        {
          "output_type": "stream",
          "text": [
            "10\n",
            "<function Person.greet at 0x7f359ff775f0>\n",
            "This is a class\n"
          ],
          "name": "stdout"
        }
      ]
    },
    {
      "cell_type": "markdown",
      "metadata": {
        "id": "o00zv-u9nMRa"
      },
      "source": [
        "### Note\n",
        "Python doesn't use semicolons unlike java."
      ]
    },
    {
      "cell_type": "markdown",
      "metadata": {
        "id": "pGCX1nBtol98"
      },
      "source": [
        "Creating a class named Dog"
      ]
    },
    {
      "cell_type": "code",
      "metadata": {
        "id": "MH66qFLJnDEr"
      },
      "source": [
        "# Creating a Dog Class\n",
        "class Dog:\n",
        "  \"\"\"I am creating a class named Dog here\"\"\"\n",
        "\n",
        "  # Defining local variables for the class\n",
        "  breed = 'Bichon'\n",
        "  name = 'Peanut'\n",
        "\n",
        "  # Creating a function called bark\n",
        "  def bark(self):\n",
        "    print('Bark Bark Bark')"
      ],
      "execution_count": 31,
      "outputs": []
    },
    {
      "cell_type": "code",
      "metadata": {
        "colab": {
          "base_uri": "https://localhost:8080/"
        },
        "id": "b8evLcbSnklT",
        "outputId": "523e88db-82c3-43dd-9f9d-ba0705ebdda7"
      },
      "source": [
        "print(Dog.breed)\n",
        "print(Dog.name)\n",
        "print(Dog.bark)\n",
        "print(Dog.__doc__)"
      ],
      "execution_count": 32,
      "outputs": [
        {
          "output_type": "stream",
          "text": [
            "Bichon\n",
            "Peanut\n",
            "<function Dog.bark at 0x7f359ff5e0e0>\n",
            "I am creating a class named Dog here\n"
          ],
          "name": "stdout"
        }
      ]
    },
    {
      "cell_type": "code",
      "metadata": {
        "colab": {
          "base_uri": "https://localhost:8080/"
        },
        "id": "bFs1rcVUpuIt",
        "outputId": "e995f8eb-422a-473c-9644-f03693338ccb"
      },
      "source": [
        "# Creating class instance\n",
        "peanut = Dog()\n",
        "print(peanut.breed)\n",
        "print(peanut.name)\n",
        "print(peanut.bark())\n",
        "print(peanut.__doc__)"
      ],
      "execution_count": 33,
      "outputs": [
        {
          "output_type": "stream",
          "text": [
            "Bichon\n",
            "Peanut\n",
            "Bark Bark Bark\n",
            "None\n",
            "I am creating a class named Dog here\n"
          ],
          "name": "stdout"
        }
      ]
    }
  ]
}