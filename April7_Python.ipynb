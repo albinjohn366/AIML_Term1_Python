{
  "nbformat": 4,
  "nbformat_minor": 0,
  "metadata": {
    "colab": {
      "name": "April7_Python.ipynb",
      "provenance": [],
      "authorship_tag": "ABX9TyOe2YZa5Rr9reGIsngYooQD"
    },
    "kernelspec": {
      "name": "python3",
      "display_name": "Python 3"
    },
    "language_info": {
      "name": "python"
    }
  },
  "cells": [
    {
      "cell_type": "markdown",
      "metadata": {
        "id": "UZLoQoCaof-l"
      },
      "source": [
        "Creating a class Person"
      ]
    },
    {
      "cell_type": "code",
      "metadata": {
        "id": "1Q1uIAP9mBqj"
      },
      "source": [
        "# Creating a class\n",
        "class Person:\n",
        "  \"\"\"This is a class\"\"\"\n",
        "  age = 10\n",
        "\n",
        "  def greet(self):\n",
        "    print('Hello')"
      ],
      "execution_count": 46,
      "outputs": []
    },
    {
      "cell_type": "code",
      "metadata": {
        "colab": {
          "base_uri": "https://localhost:8080/"
        },
        "id": "gtza74Y9mOPA",
        "outputId": "0b44a767-f0e6-4e6d-c343-964d6b0fa1b7"
      },
      "source": [
        "# Printing age\n",
        "print(Person.age)\n",
        "\n",
        "# Printing the greeting\n",
        "print(Person.greet)\n",
        "\n",
        "# Printing the documentation\n",
        "print(Person.__doc__)"
      ],
      "execution_count": 47,
      "outputs": [
        {
          "output_type": "stream",
          "text": [
            "10\n",
            "<function Person.greet at 0x7f359ff4ccb0>\n",
            "This is a class\n"
          ],
          "name": "stdout"
        }
      ]
    },
    {
      "cell_type": "markdown",
      "metadata": {
        "id": "o00zv-u9nMRa"
      },
      "source": [
        "### Note\n",
        "Python doesn't use semicolons unlike java."
      ]
    },
    {
      "cell_type": "markdown",
      "metadata": {
        "id": "pGCX1nBtol98"
      },
      "source": [
        "Creating a class named Dog"
      ]
    },
    {
      "cell_type": "code",
      "metadata": {
        "id": "MH66qFLJnDEr"
      },
      "source": [
        "# Creating a Dog Class\n",
        "class Dog:\n",
        "  \"\"\"I am creating a class named Dog here\"\"\"\n",
        "\n",
        "  # Defining local variables for the class\n",
        "  breed = 'Bichon'\n",
        "  name = 'Peanut'\n",
        "\n",
        "  # Creating a function called bark\n",
        "  def bark(self):\n",
        "    print('Bark Bark Bark')"
      ],
      "execution_count": 48,
      "outputs": []
    },
    {
      "cell_type": "code",
      "metadata": {
        "colab": {
          "base_uri": "https://localhost:8080/"
        },
        "id": "b8evLcbSnklT",
        "outputId": "d37fe6f3-66ba-4cd7-d1e5-6f0e47358b6a"
      },
      "source": [
        "print(Dog.breed)\n",
        "print(Dog.name)\n",
        "print(Dog.bark)\n",
        "print(Dog.__doc__)"
      ],
      "execution_count": 49,
      "outputs": [
        {
          "output_type": "stream",
          "text": [
            "Bichon\n",
            "Peanut\n",
            "<function Dog.bark at 0x7f359ff77710>\n",
            "I am creating a class named Dog here\n"
          ],
          "name": "stdout"
        }
      ]
    },
    {
      "cell_type": "code",
      "metadata": {
        "colab": {
          "base_uri": "https://localhost:8080/"
        },
        "id": "bFs1rcVUpuIt",
        "outputId": "ea6e7b8d-4bcf-46b2-bc38-b2ba4f389fbd"
      },
      "source": [
        "# Creating class instance\n",
        "peanut = Dog()\n",
        "print(peanut.breed)\n",
        "print(peanut.name)\n",
        "print(peanut.bark())\n",
        "print(peanut.__doc__)"
      ],
      "execution_count": 50,
      "outputs": [
        {
          "output_type": "stream",
          "text": [
            "Bichon\n",
            "Peanut\n",
            "Bark Bark Bark\n",
            "None\n",
            "I am creating a class named Dog here\n"
          ],
          "name": "stdout"
        }
      ]
    },
    {
      "cell_type": "markdown",
      "metadata": {
        "id": "9s0dJdEfz4F5"
      },
      "source": [
        "###Python Code Sharing"
      ]
    },
    {
      "cell_type": "code",
      "metadata": {
        "id": "qAkCJrOfz7Zx"
      },
      "source": [
        "# Creating a class named complex number\n",
        "class Complex_Number:\n",
        "\n",
        "  def __init__(self, r=0, i=0):\n",
        "    self.real = r\n",
        "    self.imag = i\n",
        "\n",
        "  def get_data(self):\n",
        "    print('{} + {}j'.format(self.real, self.imag))"
      ],
      "execution_count": 51,
      "outputs": []
    },
    {
      "cell_type": "code",
      "metadata": {
        "colab": {
          "base_uri": "https://localhost:8080/"
        },
        "id": "_oWivdes0ivo",
        "outputId": "f02c550c-cebb-40a0-e38b-7d6259249595"
      },
      "source": [
        "# Creating an instance\n",
        "comp1 = Complex_Number(5, 2)\n",
        "comp1.get_data()"
      ],
      "execution_count": 52,
      "outputs": [
        {
          "output_type": "stream",
          "text": [
            "5 + 2j\n"
          ],
          "name": "stdout"
        }
      ]
    },
    {
      "cell_type": "code",
      "metadata": {
        "colab": {
          "base_uri": "https://localhost:8080/"
        },
        "id": "-XLSX4ls1F_j",
        "outputId": "8288806b-3b8a-477d-97ee-0f9494674153"
      },
      "source": [
        "# Creating another complex number\n",
        "comp2 = Complex_Number(5)\n",
        "comp2.get_data()"
      ],
      "execution_count": 53,
      "outputs": [
        {
          "output_type": "stream",
          "text": [
            "5 + 0j\n"
          ],
          "name": "stdout"
        }
      ]
    },
    {
      "cell_type": "code",
      "metadata": {
        "colab": {
          "base_uri": "https://localhost:8080/"
        },
        "id": "by-jw0Yk1SVX",
        "outputId": "cbf2ad7c-4a93-4bcc-e408-06ad7af1efbc"
      },
      "source": [
        "comp2.attr = 10\n",
        "print(comp2.attr)"
      ],
      "execution_count": 54,
      "outputs": [
        {
          "output_type": "stream",
          "text": [
            "10\n"
          ],
          "name": "stdout"
        }
      ]
    }
  ]
}