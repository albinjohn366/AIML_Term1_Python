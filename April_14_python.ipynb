{
  "nbformat": 4,
  "nbformat_minor": 0,
  "metadata": {
    "colab": {
      "name": "April_14_python.ipynb",
      "provenance": [],
      "authorship_tag": "ABX9TyNUvev7is5akhkZd4pLiU/D"
    },
    "kernelspec": {
      "name": "python3",
      "display_name": "Python 3"
    },
    "language_info": {
      "name": "python"
    }
  },
  "cells": [
    {
      "cell_type": "code",
      "metadata": {
        "colab": {
          "base_uri": "https://localhost:8080/"
        },
        "id": "a21i9ROo1E0S",
        "outputId": "7376e8fb-3e01-4f43-af23-c8834196cbe1"
      },
      "source": [
        "phone_book = {'Adam': 1234, 'Christy': 4282910, 'Lissy': 67829}\n",
        "print(phone_book)"
      ],
      "execution_count": 12,
      "outputs": [
        {
          "output_type": "stream",
          "text": [
            "{'Adam': 1234, 'Christy': 4282910, 'Lissy': 67829}\n"
          ],
          "name": "stdout"
        }
      ]
    },
    {
      "cell_type": "code",
      "metadata": {
        "colab": {
          "base_uri": "https://localhost:8080/"
        },
        "id": "VSjkIFqh1XEx",
        "outputId": "be533f96-d163-4b55-a171-98dc64a86818"
      },
      "source": [
        "phone_book['Lissy']"
      ],
      "execution_count": 13,
      "outputs": [
        {
          "output_type": "execute_result",
          "data": {
            "text/plain": [
              "67829"
            ]
          },
          "metadata": {
            "tags": []
          },
          "execution_count": 13
        }
      ]
    },
    {
      "cell_type": "code",
      "metadata": {
        "colab": {
          "base_uri": "https://localhost:8080/"
        },
        "id": "mZave2Tt1fM7",
        "outputId": "61d61674-a6d3-4b37-f944-99b302d8e3f9"
      },
      "source": [
        "squares = [x**2 for x in range(0, 6)]\n",
        "squares"
      ],
      "execution_count": 14,
      "outputs": [
        {
          "output_type": "execute_result",
          "data": {
            "text/plain": [
              "[0, 1, 4, 9, 16, 25]"
            ]
          },
          "metadata": {
            "tags": []
          },
          "execution_count": 14
        }
      ]
    },
    {
      "cell_type": "code",
      "metadata": {
        "colab": {
          "base_uri": "https://localhost:8080/"
        },
        "id": "L_qi10yy2PL-",
        "outputId": "97e3e124-cfcd-4eb7-9694-5a080f8d7548"
      },
      "source": [
        "a = 8\n",
        "b = 9\n",
        "if a < b:\n",
        "  print(\"a is less than b\")"
      ],
      "execution_count": 15,
      "outputs": [
        {
          "output_type": "stream",
          "text": [
            "a is less than b\n"
          ],
          "name": "stdout"
        }
      ]
    },
    {
      "cell_type": "code",
      "metadata": {
        "colab": {
          "base_uri": "https://localhost:8080/"
        },
        "id": "Dl5Pa2AZ2Tpl",
        "outputId": "66806ae8-a1fc-4a82-8be4-988a4d326813"
      },
      "source": [
        "# Ordered Dictionary\n",
        "from collections import OrderedDict\n",
        "ordered_dict = OrderedDict([('one', 1), ('two', 2), ('three', 3)])\n",
        "ordered_dict"
      ],
      "execution_count": 16,
      "outputs": [
        {
          "output_type": "execute_result",
          "data": {
            "text/plain": [
              "OrderedDict([('one', 1), ('two', 2), ('three', 3)])"
            ]
          },
          "metadata": {
            "tags": []
          },
          "execution_count": 16
        }
      ]
    },
    {
      "cell_type": "code",
      "metadata": {
        "colab": {
          "base_uri": "https://localhost:8080/"
        },
        "id": "UORRV_VO4Wmi",
        "outputId": "4dbcb949-d4c2-4c62-f86d-23b834b1a73a"
      },
      "source": [
        "ordered_dict['one']"
      ],
      "execution_count": 17,
      "outputs": [
        {
          "output_type": "execute_result",
          "data": {
            "text/plain": [
              "1"
            ]
          },
          "metadata": {
            "tags": []
          },
          "execution_count": 17
        }
      ]
    },
    {
      "cell_type": "code",
      "metadata": {
        "colab": {
          "base_uri": "https://localhost:8080/"
        },
        "id": "ORmyEM0q4aOn",
        "outputId": "3bd38689-8dae-4a7a-a0eb-ac249ed4f046"
      },
      "source": [
        "ordered_dict.keys()"
      ],
      "execution_count": 18,
      "outputs": [
        {
          "output_type": "execute_result",
          "data": {
            "text/plain": [
              "odict_keys(['one', 'two', 'three'])"
            ]
          },
          "metadata": {
            "tags": []
          },
          "execution_count": 18
        }
      ]
    },
    {
      "cell_type": "code",
      "metadata": {
        "colab": {
          "base_uri": "https://localhost:8080/"
        },
        "id": "D37qRlZD_Xmz",
        "outputId": "61d04af0-7e46-4117-9be9-d5f234fef5f6"
      },
      "source": [
        "# Inclass activity - Arrays\n",
        "array = ['one', 'two', 'three']\n",
        "print(array)\n",
        "print(array[1])\n",
        "array[0] = 'four'\n",
        "print(array)"
      ],
      "execution_count": 19,
      "outputs": [
        {
          "output_type": "stream",
          "text": [
            "['one', 'two', 'three']\n",
            "two\n",
            "['four', 'two', 'three']\n"
          ],
          "name": "stdout"
        }
      ]
    },
    {
      "cell_type": "code",
      "metadata": {
        "colab": {
          "base_uri": "https://localhost:8080/"
        },
        "id": "OKxiZUn6_udK",
        "outputId": "4dd54832-a28f-476a-fc7b-8298612ec39c"
      },
      "source": [
        "# Cont...\n",
        "array.append('zero')\n",
        "array"
      ],
      "execution_count": 21,
      "outputs": [
        {
          "output_type": "execute_result",
          "data": {
            "text/plain": [
              "['four', 'two', 'three', 'zero']"
            ]
          },
          "metadata": {
            "tags": []
          },
          "execution_count": 21
        }
      ]
    },
    {
      "cell_type": "code",
      "metadata": {
        "colab": {
          "base_uri": "https://localhost:8080/"
        },
        "id": "1P4rWTgqBXFe",
        "outputId": "172275e6-fc02-4cf8-eb39-2ae3f9d18b6f"
      },
      "source": [
        "for i in range(len(array)):\n",
        "  print(array[i])"
      ],
      "execution_count": 24,
      "outputs": [
        {
          "output_type": "stream",
          "text": [
            "four\n",
            "two\n",
            "three\n",
            "zero\n"
          ],
          "name": "stdout"
        }
      ]
    },
    {
      "cell_type": "code",
      "metadata": {
        "colab": {
          "base_uri": "https://localhost:8080/"
        },
        "id": "CNTGsbFBBqsm",
        "outputId": "1d6995fe-bbda-4d66-918e-8b356a8fc7f1"
      },
      "source": [
        "for i in array:\n",
        "  print(i)"
      ],
      "execution_count": 25,
      "outputs": [
        {
          "output_type": "stream",
          "text": [
            "four\n",
            "two\n",
            "three\n",
            "zero\n"
          ],
          "name": "stdout"
        }
      ]
    }
  ]
}